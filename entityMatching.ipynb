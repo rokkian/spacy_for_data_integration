{
 "cells": [
  {
   "cell_type": "markdown",
   "source": [
    "## Entity matching\n",
    "Si tratta di matchare le entità dehgli schemi vedendole come frasi da matchare con Spacy"
   ],
   "metadata": {}
  },
  {
   "cell_type": "code",
   "execution_count": null,
   "source": [],
   "outputs": [],
   "metadata": {}
  }
 ],
 "metadata": {
  "orig_nbformat": 4,
  "language_info": {
   "name": "python"
  }
 },
 "nbformat": 4,
 "nbformat_minor": 2
}